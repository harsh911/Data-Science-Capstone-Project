{
 "cells": [
  {
   "cell_type": "markdown",
   "metadata": {},
   "source": [
    "\n",
    "# Clustering and segmenting locations of Goa"
   ]
  },
  {
   "cell_type": "markdown",
   "metadata": {},
   "source": [
    "In this project I will be clustering and segmenting towns of Goa,India based on the frequency of visits to different places in the towns.\n",
    "We will segment the towns into areas that are suitable to start a particular type of business, for this instance into areas suitable for starting up a restraurant."
   ]
  },
  {
   "cell_type": "markdown",
   "metadata": {},
   "source": [
    "Lets import the libraries"
   ]
  },
  {
   "cell_type": "code",
   "execution_count": 1,
   "metadata": {},
   "outputs": [
    {
     "name": "stdout",
     "output_type": "stream",
     "text": [
      "Solving environment: done\n",
      "\n",
      "## Package Plan ##\n",
      "\n",
      "  environment location: /home/jupyterlab/conda\n",
      "\n",
      "  added / updated specs: \n",
      "    - geopy\n",
      "\n",
      "\n",
      "The following packages will be downloaded:\n",
      "\n",
      "    package                    |            build\n",
      "    ---------------------------|-----------------\n",
      "    geopy-1.18.1               |             py_0          51 KB  conda-forge\n",
      "    geographiclib-1.49         |             py_0          32 KB  conda-forge\n",
      "    ------------------------------------------------------------\n",
      "                                           Total:          84 KB\n",
      "\n",
      "The following NEW packages will be INSTALLED:\n",
      "\n",
      "    geographiclib: 1.49-py_0     conda-forge\n",
      "\n",
      "The following packages will be UPDATED:\n",
      "\n",
      "    geopy:         1.11.0-py36_0 conda-forge --> 1.18.1-py_0 conda-forge\n",
      "\n",
      "\n",
      "Downloading and Extracting Packages\n",
      "geopy-1.18.1         | 51 KB     | ##################################### | 100% \n",
      "geographiclib-1.49   | 32 KB     | ##################################### | 100% \n",
      "Preparing transaction: done\n",
      "Verifying transaction: done\n",
      "Executing transaction: done\n",
      "Solving environment: done\n",
      "\n",
      "# All requested packages already installed.\n",
      "\n",
      "Libraries imported.\n"
     ]
    }
   ],
   "source": [
    "import numpy as np \n",
    "\n",
    "import pandas as pd \n",
    "pd.set_option('display.max_columns', None)\n",
    "pd.set_option('display.max_rows', None)\n",
    "\n",
    "import json\n",
    "import matplotlib.pyplot as plt\n",
    "\n",
    "!conda install -c conda-forge geopy --yes \n",
    "from geopy.geocoders import Nominatim\n",
    "\n",
    "import requests \n",
    " \n",
    "\n",
    "import matplotlib.cm as cm\n",
    "import matplotlib.colors as colors\n",
    "\n",
    "from sklearn.cluster import KMeans\n",
    "\n",
    "!conda install -c conda-forge folium=0.5.0 --yes\n",
    "import folium\n",
    "\n",
    "from bs4 import BeautifulSoup\n",
    "print('Libraries imported.')"
   ]
  },
  {
   "cell_type": "markdown",
   "metadata": {},
   "source": [
    "Now lets use the BeautifulSoup library to extract the location data of goa from the site https://www.mapsofindia.com/pincode/india/goa/\n",
    "Goa is divided into 2 Districts. So lets first do it for North-Goa."
   ]
  },
  {
   "cell_type": "code",
   "execution_count": 2,
   "metadata": {},
   "outputs": [],
   "source": [
    "html1 = 'https://www.mapsofindia.com/pincode/india/goa/north-goa/'\n",
    "page = requests.get(html1)\n",
    "text = page.text\n",
    "soup = BeautifulSoup(text, 'html.parser')\n"
   ]
  },
  {
   "cell_type": "code",
   "execution_count": 3,
   "metadata": {},
   "outputs": [
    {
     "data": {
      "text/plain": [
       "142"
      ]
     },
     "execution_count": 3,
     "metadata": {},
     "output_type": "execute_result"
    }
   ],
   "source": [
    "table = soup.find('table')\n",
    "rows = table.findAll('tr')\n",
    "columns = rows[1].findAll('td')\n",
    "rows = rows[1:]\n",
    "no_of_cols = len(columns)\n",
    "no_of_rows = len(rows)\n",
    "#since the row containg the column names is used we subtract a row from the total no of rows\n",
    "no_of_rows = no_of_rows - 1\n",
    "no_of_rows"
   ]
  },
  {
   "cell_type": "code",
   "execution_count": null,
   "metadata": {},
   "outputs": [
    {
     "name": "stdout",
     "output_type": "stream",
     "text": [
      "(142, 4)\n"
     ]
    },
    {
     "data": {
      "text/html": [
       "<div>\n",
       "<style scoped>\n",
       "    .dataframe tbody tr th:only-of-type {\n",
       "        vertical-align: middle;\n",
       "    }\n",
       "\n",
       "    .dataframe tbody tr th {\n",
       "        vertical-align: top;\n",
       "    }\n",
       "\n",
       "    .dataframe thead th {\n",
       "        text-align: right;\n",
       "    }\n",
       "</style>\n",
       "<table border=\"1\" class=\"dataframe\">\n",
       "  <thead>\n",
       "    <tr style=\"text-align: right;\">\n",
       "      <th></th>\n",
       "      <th>location</th>\n",
       "      <th>pincode</th>\n",
       "      <th>state</th>\n",
       "      <th>district</th>\n",
       "    </tr>\n",
       "  </thead>\n",
       "  <tbody>\n",
       "    <tr>\n",
       "      <th>0</th>\n",
       "      <td>Advalpal</td>\n",
       "      <td>403503</td>\n",
       "      <td>Goa</td>\n",
       "      <td>North Goa</td>\n",
       "    </tr>\n",
       "    <tr>\n",
       "      <th>1</th>\n",
       "      <td>Advoi</td>\n",
       "      <td>403530</td>\n",
       "      <td>Goa</td>\n",
       "      <td>North Goa</td>\n",
       "    </tr>\n",
       "    <tr>\n",
       "      <th>2</th>\n",
       "      <td>Agarwada</td>\n",
       "      <td>403512</td>\n",
       "      <td>Goa</td>\n",
       "      <td>North Goa</td>\n",
       "    </tr>\n",
       "    <tr>\n",
       "      <th>3</th>\n",
       "      <td>Aldona</td>\n",
       "      <td>403508</td>\n",
       "      <td>Goa</td>\n",
       "      <td>North Goa</td>\n",
       "    </tr>\n",
       "    <tr>\n",
       "      <th>4</th>\n",
       "      <td>Alto Betim</td>\n",
       "      <td>403521</td>\n",
       "      <td>Goa</td>\n",
       "      <td>North Goa</td>\n",
       "    </tr>\n",
       "  </tbody>\n",
       "</table>\n",
       "</div>"
      ],
      "text/plain": [
       "     location pincode  state     district\n",
       "0    Advalpal  403503     Goa  North Goa \n",
       "1       Advoi  403530     Goa  North Goa \n",
       "2    Agarwada  403512     Goa  North Goa \n",
       "3      Aldona  403508     Goa  North Goa \n",
       "4  Alto Betim  403521     Goa  North Goa "
      ]
     },
     "execution_count": 4,
     "metadata": {},
     "output_type": "execute_result"
    }
   ],
   "source": [
    "cols= list()\n",
    "\n",
    "for i in range(no_of_cols):\n",
    "    if i == no_of_cols - 1:\n",
    "        cols.append(columns[i].string[:-1].lower())\n",
    "    else:\n",
    "        cols.append(columns[i].string.lower())\n",
    "\n",
    "north_goa_df = pd.DataFrame(columns = cols, index = range(no_of_rows))\n",
    "\n",
    "for i in range(no_of_rows):\n",
    "    new_rows = rows[i+1].findAll('td')\n",
    "    for j in range(no_of_cols):\n",
    "        north_goa_df.iloc[i,j] = new_rows[j].string\n",
    "        if north_goa_df.iloc[i,j] == None:\n",
    "            north_goa_df.iloc[i,j] = new_rows[j].a.string \n",
    "            \n",
    "\n",
    "print(north_goa_df.shape)\n",
    "north_goa_df.head()"
   ]
  },
  {
   "cell_type": "markdown",
   "metadata": {},
   "source": [
    "Lets do it for South Goa now"
   ]
  },
  {
   "cell_type": "code",
   "execution_count": null,
   "metadata": {},
   "outputs": [
    {
     "name": "stdout",
     "output_type": "stream",
     "text": [
      "(121, 4)\n"
     ]
    },
    {
     "data": {
      "text/html": [
       "<div>\n",
       "<style scoped>\n",
       "    .dataframe tbody tr th:only-of-type {\n",
       "        vertical-align: middle;\n",
       "    }\n",
       "\n",
       "    .dataframe tbody tr th {\n",
       "        vertical-align: top;\n",
       "    }\n",
       "\n",
       "    .dataframe thead th {\n",
       "        text-align: right;\n",
       "    }\n",
       "</style>\n",
       "<table border=\"1\" class=\"dataframe\">\n",
       "  <thead>\n",
       "    <tr style=\"text-align: right;\">\n",
       "      <th></th>\n",
       "      <th>location</th>\n",
       "      <th>pincode</th>\n",
       "      <th>state</th>\n",
       "      <th>district</th>\n",
       "    </tr>\n",
       "  </thead>\n",
       "  <tbody>\n",
       "    <tr>\n",
       "      <th>0</th>\n",
       "      <td>A.P.dabolim</td>\n",
       "      <td>403801</td>\n",
       "      <td>Goa</td>\n",
       "      <td>South Goa</td>\n",
       "    </tr>\n",
       "    <tr>\n",
       "      <th>1</th>\n",
       "      <td>A.P.terminal</td>\n",
       "      <td>403801</td>\n",
       "      <td>Goa</td>\n",
       "      <td>South Goa</td>\n",
       "    </tr>\n",
       "    <tr>\n",
       "      <th>2</th>\n",
       "      <td>Agapur Adpoi</td>\n",
       "      <td>403401</td>\n",
       "      <td>Goa</td>\n",
       "      <td>South Goa</td>\n",
       "    </tr>\n",
       "    <tr>\n",
       "      <th>3</th>\n",
       "      <td>Agonda</td>\n",
       "      <td>403702</td>\n",
       "      <td>Goa</td>\n",
       "      <td>South Goa</td>\n",
       "    </tr>\n",
       "    <tr>\n",
       "      <th>4</th>\n",
       "      <td>Ambaulim</td>\n",
       "      <td>403705</td>\n",
       "      <td>Goa</td>\n",
       "      <td>South Goa</td>\n",
       "    </tr>\n",
       "  </tbody>\n",
       "</table>\n",
       "</div>"
      ],
      "text/plain": [
       "       location pincode  state     district\n",
       "0   A.P.dabolim  403801     Goa  South Goa \n",
       "1  A.P.terminal  403801     Goa  South Goa \n",
       "2  Agapur Adpoi  403401     Goa  South Goa \n",
       "3        Agonda  403702     Goa  South Goa \n",
       "4      Ambaulim  403705     Goa  South Goa "
      ]
     },
     "execution_count": 5,
     "metadata": {},
     "output_type": "execute_result"
    }
   ],
   "source": [
    "html2 = 'https://www.mapsofindia.com/pincode/india/goa/south-goa/'\n",
    "page = requests.get(html2)\n",
    "text = page.text\n",
    "soup = BeautifulSoup(text, 'html.parser')\n",
    "\n",
    "table = soup.find('table')\n",
    "rows = table.findAll('tr')\n",
    "columns = rows[1].findAll('td')\n",
    "rows = rows[1:]\n",
    "no_of_cols = len(columns)\n",
    "no_of_rows = len(rows)\n",
    "#since the row containg the column names is used we subtract a row from the total no of rows\n",
    "no_of_rows = no_of_rows - 1\n",
    "\n",
    "cols= list()\n",
    "\n",
    "for i in range(no_of_cols):\n",
    "    if i == no_of_cols - 1:\n",
    "        cols.append(columns[i].string[:-1].lower())\n",
    "    else:\n",
    "        cols.append(columns[i].string.lower())\n",
    "\n",
    "south_goa_df = pd.DataFrame(columns = cols, index = range(no_of_rows))\n",
    "\n",
    "for i in range(no_of_rows):\n",
    "    new_rows = rows[i+1].findAll('td')\n",
    "    for j in range(no_of_cols):\n",
    "        south_goa_df.iloc[i,j] = new_rows[j].string\n",
    "        if south_goa_df.iloc[i,j] == None:\n",
    "            south_goa_df.iloc[i,j] = new_rows[j].a.string \n",
    "            \n",
    "\n",
    "print(south_goa_df.shape)\n",
    "south_goa_df.head()"
   ]
  },
  {
   "cell_type": "markdown",
   "metadata": {},
   "source": [
    "Now lets combine the dataframes of north goa and south goa "
   ]
  },
  {
   "cell_type": "code",
   "execution_count": null,
   "metadata": {},
   "outputs": [
    {
     "name": "stdout",
     "output_type": "stream",
     "text": [
      "Index(['location', 'pincode ', 'state ', 'district'], dtype='object')\n",
      "(263, 3)\n"
     ]
    }
   ],
   "source": [
    "goa_df = north_goa_df.append(south_goa_df)\n",
    "print(goa_df.columns)\n",
    "goa_df.sort_values(['location','pincode '],inplace = True)\n",
    "goa_df = goa_df[['pincode ','location','district']]\n",
    "goa_df.reset_index(inplace=True)\n",
    "goa_df.drop('index',axis=1,inplace=True)\n",
    "print(goa_df.shape)"
   ]
  },
  {
   "cell_type": "code",
   "execution_count": null,
   "metadata": {},
   "outputs": [
    {
     "data": {
      "text/plain": [
       "259"
      ]
     },
     "execution_count": 7,
     "metadata": {},
     "output_type": "execute_result"
    }
   ],
   "source": [
    "locs= list(goa_df['location'].unique())\n",
    "index=range(len(locs))\n",
    "len(locs)"
   ]
  },
  {
   "cell_type": "code",
   "execution_count": null,
   "metadata": {},
   "outputs": [
    {
     "data": {
      "text/html": [
       "<div>\n",
       "<style scoped>\n",
       "    .dataframe tbody tr th:only-of-type {\n",
       "        vertical-align: middle;\n",
       "    }\n",
       "\n",
       "    .dataframe tbody tr th {\n",
       "        vertical-align: top;\n",
       "    }\n",
       "\n",
       "    .dataframe thead th {\n",
       "        text-align: right;\n",
       "    }\n",
       "</style>\n",
       "<table border=\"1\" class=\"dataframe\">\n",
       "  <thead>\n",
       "    <tr style=\"text-align: right;\">\n",
       "      <th></th>\n",
       "      <th>pincode</th>\n",
       "      <th>location</th>\n",
       "      <th>district</th>\n",
       "    </tr>\n",
       "  </thead>\n",
       "  <tbody>\n",
       "    <tr>\n",
       "      <th>0</th>\n",
       "      <td>403801</td>\n",
       "      <td>A.P.dabolim</td>\n",
       "      <td>South Goa</td>\n",
       "    </tr>\n",
       "    <tr>\n",
       "      <th>1</th>\n",
       "      <td>403801</td>\n",
       "      <td>A.P.terminal</td>\n",
       "      <td>South Goa</td>\n",
       "    </tr>\n",
       "    <tr>\n",
       "      <th>2</th>\n",
       "      <td>403503</td>\n",
       "      <td>Advalpal</td>\n",
       "      <td>North Goa</td>\n",
       "    </tr>\n",
       "    <tr>\n",
       "      <th>3</th>\n",
       "      <td>403530</td>\n",
       "      <td>Advoi</td>\n",
       "      <td>North Goa</td>\n",
       "    </tr>\n",
       "    <tr>\n",
       "      <th>4</th>\n",
       "      <td>403401</td>\n",
       "      <td>Agapur Adpoi</td>\n",
       "      <td>South Goa</td>\n",
       "    </tr>\n",
       "    <tr>\n",
       "      <th>5</th>\n",
       "      <td>403512</td>\n",
       "      <td>Agarwada</td>\n",
       "      <td>North Goa</td>\n",
       "    </tr>\n",
       "    <tr>\n",
       "      <th>6</th>\n",
       "      <td>403702</td>\n",
       "      <td>Agonda</td>\n",
       "      <td>South Goa</td>\n",
       "    </tr>\n",
       "    <tr>\n",
       "      <th>7</th>\n",
       "      <td>403508</td>\n",
       "      <td>Aldona</td>\n",
       "      <td>North Goa</td>\n",
       "    </tr>\n",
       "    <tr>\n",
       "      <th>8</th>\n",
       "      <td>403521</td>\n",
       "      <td>Alto Betim</td>\n",
       "      <td>North Goa</td>\n",
       "    </tr>\n",
       "    <tr>\n",
       "      <th>9</th>\n",
       "      <td>403521</td>\n",
       "      <td>Alto-porvorim</td>\n",
       "      <td>North Goa</td>\n",
       "    </tr>\n",
       "  </tbody>\n",
       "</table>\n",
       "</div>"
      ],
      "text/plain": [
       "  pincode        location    district\n",
       "0  403801     A.P.dabolim  South Goa \n",
       "1  403801    A.P.terminal  South Goa \n",
       "2  403503        Advalpal  North Goa \n",
       "3  403530           Advoi  North Goa \n",
       "4  403401    Agapur Adpoi  South Goa \n",
       "5  403512        Agarwada  North Goa \n",
       "6  403702          Agonda  South Goa \n",
       "7  403508          Aldona  North Goa \n",
       "8  403521      Alto Betim  North Goa \n",
       "9  403521   Alto-porvorim  North Goa "
      ]
     },
     "execution_count": 8,
     "metadata": {},
     "output_type": "execute_result"
    }
   ],
   "source": [
    "new_df = goa_df\n",
    "\n",
    "new_df.reset_index(inplace=True)\n",
    "new_df.drop('index',axis=1,inplace=True)\n",
    "new_df.shape\n",
    "new_df.head(10)"
   ]
  },
  {
   "cell_type": "markdown",
   "metadata": {},
   "source": [
    "Now we get the location coordinates of Goa using the Nominatim function from Geopy"
   ]
  },
  {
   "cell_type": "code",
   "execution_count": null,
   "metadata": {},
   "outputs": [
    {
     "name": "stderr",
     "output_type": "stream",
     "text": [
      "/home/jupyterlab/conda/lib/python3.6/site-packages/ipykernel_launcher.py:2: DeprecationWarning: Using Nominatim with the default \"geopy/1.18.1\" `user_agent` is strongly discouraged, as it violates Nominatim's ToS https://operations.osmfoundation.org/policies/nominatim/ and may possibly cause 403 and 429 HTTP errors. Please specify a custom `user_agent` with `Nominatim(user_agent=\"my-application\")` or by overriding the default `user_agent`: `geopy.geocoders.options.default_user_agent = \"my-application\"`. In geopy 2.0 this will become an exception.\n",
      "  \n"
     ]
    },
    {
     "data": {
      "text/html": [
       "<div>\n",
       "<style scoped>\n",
       "    .dataframe tbody tr th:only-of-type {\n",
       "        vertical-align: middle;\n",
       "    }\n",
       "\n",
       "    .dataframe tbody tr th {\n",
       "        vertical-align: top;\n",
       "    }\n",
       "\n",
       "    .dataframe thead th {\n",
       "        text-align: right;\n",
       "    }\n",
       "</style>\n",
       "<table border=\"1\" class=\"dataframe\">\n",
       "  <thead>\n",
       "    <tr style=\"text-align: right;\">\n",
       "      <th></th>\n",
       "      <th>pincode</th>\n",
       "      <th>location</th>\n",
       "      <th>district</th>\n",
       "      <th>latitude</th>\n",
       "      <th>longitude</th>\n",
       "    </tr>\n",
       "  </thead>\n",
       "  <tbody>\n",
       "    <tr>\n",
       "      <th>0</th>\n",
       "      <td>403801</td>\n",
       "      <td>A.P.dabolim</td>\n",
       "      <td>South Goa</td>\n",
       "      <td>NaN</td>\n",
       "      <td>NaN</td>\n",
       "    </tr>\n",
       "    <tr>\n",
       "      <th>1</th>\n",
       "      <td>403801</td>\n",
       "      <td>A.P.terminal</td>\n",
       "      <td>South Goa</td>\n",
       "      <td>NaN</td>\n",
       "      <td>NaN</td>\n",
       "    </tr>\n",
       "    <tr>\n",
       "      <th>2</th>\n",
       "      <td>403503</td>\n",
       "      <td>Advalpal</td>\n",
       "      <td>North Goa</td>\n",
       "      <td>NaN</td>\n",
       "      <td>NaN</td>\n",
       "    </tr>\n",
       "    <tr>\n",
       "      <th>3</th>\n",
       "      <td>403530</td>\n",
       "      <td>Advoi</td>\n",
       "      <td>North Goa</td>\n",
       "      <td>NaN</td>\n",
       "      <td>NaN</td>\n",
       "    </tr>\n",
       "    <tr>\n",
       "      <th>4</th>\n",
       "      <td>403401</td>\n",
       "      <td>Agapur Adpoi</td>\n",
       "      <td>South Goa</td>\n",
       "      <td>NaN</td>\n",
       "      <td>NaN</td>\n",
       "    </tr>\n",
       "    <tr>\n",
       "      <th>5</th>\n",
       "      <td>403512</td>\n",
       "      <td>Agarwada</td>\n",
       "      <td>North Goa</td>\n",
       "      <td>NaN</td>\n",
       "      <td>NaN</td>\n",
       "    </tr>\n",
       "    <tr>\n",
       "      <th>6</th>\n",
       "      <td>403702</td>\n",
       "      <td>Agonda</td>\n",
       "      <td>South Goa</td>\n",
       "      <td>15.040267</td>\n",
       "      <td>73.990318</td>\n",
       "    </tr>\n",
       "    <tr>\n",
       "      <th>7</th>\n",
       "      <td>403508</td>\n",
       "      <td>Aldona</td>\n",
       "      <td>North Goa</td>\n",
       "      <td>15.588825</td>\n",
       "      <td>73.874076</td>\n",
       "    </tr>\n",
       "    <tr>\n",
       "      <th>8</th>\n",
       "      <td>403521</td>\n",
       "      <td>Alto Betim</td>\n",
       "      <td>North Goa</td>\n",
       "      <td>NaN</td>\n",
       "      <td>NaN</td>\n",
       "    </tr>\n",
       "    <tr>\n",
       "      <th>9</th>\n",
       "      <td>403521</td>\n",
       "      <td>Alto-porvorim</td>\n",
       "      <td>North Goa</td>\n",
       "      <td>NaN</td>\n",
       "      <td>NaN</td>\n",
       "    </tr>\n",
       "  </tbody>\n",
       "</table>\n",
       "</div>"
      ],
      "text/plain": [
       "  pincode        location    district   latitude  longitude\n",
       "0  403801     A.P.dabolim  South Goa         NaN        NaN\n",
       "1  403801    A.P.terminal  South Goa         NaN        NaN\n",
       "2  403503        Advalpal  North Goa         NaN        NaN\n",
       "3  403530           Advoi  North Goa         NaN        NaN\n",
       "4  403401    Agapur Adpoi  South Goa         NaN        NaN\n",
       "5  403512        Agarwada  North Goa         NaN        NaN\n",
       "6  403702          Agonda  South Goa   15.040267  73.990318\n",
       "7  403508          Aldona  North Goa   15.588825  73.874076\n",
       "8  403521      Alto Betim  North Goa         NaN        NaN\n",
       "9  403521   Alto-porvorim  North Goa         NaN        NaN"
      ]
     },
     "execution_count": 9,
     "metadata": {},
     "output_type": "execute_result"
    }
   ],
   "source": [
    "for i in range(0,len(locs)):\n",
    "    geolocator = Nominatim()\n",
    "    address = '{},Goa,india'.format(locs[i])\n",
    "    location = geolocator.geocode(address)\n",
    "    if(location != None):\n",
    "        latitude = location.latitude\n",
    "        longitude = location.longitude\n",
    "        new_df.loc[i,'latitude'] = latitude\n",
    "        new_df.loc[i,'longitude'] = longitude\n",
    "        \n",
    "goa_loc = new_df\n",
    "goa_loc.head(10)"
   ]
  },
  {
   "cell_type": "code",
   "execution_count": null,
   "metadata": {},
   "outputs": [
    {
     "name": "stdout",
     "output_type": "stream",
     "text": [
      "(145, 5)\n"
     ]
    }
   ],
   "source": [
    "goa_loc.dropna(subset = ['latitude','longitude'],axis=0,inplace=True) #removing any rows with missing values\n",
    "print(goa_loc.shape)\n"
   ]
  },
  {
   "cell_type": "markdown",
   "metadata": {},
   "source": [
    "Lets visualise the dataframe"
   ]
  },
  {
   "cell_type": "code",
   "execution_count": null,
   "metadata": {},
   "outputs": [
    {
     "data": {
      "text/html": [
       "<div style=\"width:100%;\"><div style=\"position:relative;width:100%;height:0;padding-bottom:60%;\"><iframe src=\"data:text/html;charset=utf-8;base64,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\" style=\"position:absolute;width:100%;height:100%;left:0;top:0;border:none !important;\" allowfullscreen webkitallowfullscreen mozallowfullscreen></iframe></div></div>"
      ],
      "text/plain": [
       "<folium.folium.Map at 0x7fb1d9afce48>"
      ]
     },
     "execution_count": 11,
     "metadata": {},
     "output_type": "execute_result"
    }
   ],
   "source": [
    "goa_map = folium.Map(location=[goa_loc.latitude.mean(),goa_loc.longitude.mean()],zoom_start=10)\n",
    "\n",
    "for lat,lng,district,location in zip(goa_loc['latitude'],goa_loc['longitude'],goa_loc['district'],goa_loc['location']):\n",
    "    label = '{}'.format(location)\n",
    "    label = folium.Popup(label,parse_html=True)\n",
    "    folium.CircleMarker([lat,lng],radius=5,popup=label,color='blue',fill=True,fill_color='#3186cc',fill_opacity=0.7,parse_html=False).add_to(goa_map)  \n",
    "    \n",
    "goa_map"
   ]
  },
  {
   "cell_type": "code",
   "execution_count": null,
   "metadata": {},
   "outputs": [
    {
     "name": "stdout",
     "output_type": "stream",
     "text": [
      "Credentails:\n",
      "CLIENT_ID: KKXTSUNT2EBBQCTDDYKZHFFJI2S1QBNMADIDFA3IBMQV0MY2\n",
      "CLIENT_SECRET:MZFRDDVMZQEWNSPT4KG04ULHHTH5WVTQTCLC3CHMGZSYC124\n"
     ]
    }
   ],
   "source": [
    "CLIENT_ID = 'KKXTSUNT2EBBQCTDDYKZHFFJI2S1QBNMADIDFA3IBMQV0MY2' \n",
    "CLIENT_SECRET = 'MZFRDDVMZQEWNSPT4KG04ULHHTH5WVTQTCLC3CHMGZSYC124' \n",
    "VERSION = '20180105' \n",
    "\n",
    "print('Credentails:')\n",
    "print('CLIENT_ID: ' + CLIENT_ID)\n",
    "print('CLIENT_SECRET:' + CLIENT_SECRET)"
   ]
  },
  {
   "cell_type": "markdown",
   "metadata": {},
   "source": [
    "Now lets define a function to get the nearby venues using foursquare."
   ]
  },
  {
   "cell_type": "code",
   "execution_count": null,
   "metadata": {},
   "outputs": [],
   "source": [
    "def getNearbyVenues(names, pin,latitudes, longitudes, radius=500):\n",
    "    LIMIT = 100\n",
    "    venues_list=[]\n",
    "    for name,pin, lat, lng in zip(names, pin,latitudes, longitudes):\n",
    "\n",
    "        url = 'https://api.foursquare.com/v2/venues/explore?&client_id={}&client_secret={}&v={}&ll={},{}&radius={}&limit={}'.format(\n",
    "            CLIENT_ID, \n",
    "            CLIENT_SECRET, \n",
    "            VERSION, \n",
    "            lat, \n",
    "            lng, \n",
    "            radius, \n",
    "            LIMIT)\n",
    "            \n",
    "        # make the GET request\n",
    "        results = requests.get(url).json()[\"response\"]['groups'][0]['items']\n",
    "        # return only relevant information for each nearby venue\n",
    "        venues_list.append([(\n",
    "            name, \n",
    "            pin,\n",
    "            lat, \n",
    "            lng, \n",
    "            v['venue']['name'], \n",
    "            v['venue']['location']['lat'], \n",
    "            v['venue']['location']['lng'],  \n",
    "            v['venue']['categories'][0]['name']) for v in results])\n",
    "    nearby_venues = pd.DataFrame([item for venue_list in venues_list for item in venue_list])\n",
    "    nearby_venues.columns = ['location', \n",
    "                  'pincode ',\n",
    "                  'location Latitude', \n",
    "                  'location Longitude', \n",
    "                  'Venue', \n",
    "                  'Venue Latitude', \n",
    "                  'Venue Longitude', \n",
    "                  'Venue Category']\n",
    "    \n",
    "    return(nearby_venues)\n",
    "\n",
    "goa_venues = getNearbyVenues(names=goa_loc['location'],pin = goa_loc['pincode '],\n",
    "                                   latitudes=goa_loc['latitude'],\n",
    "                                   longitudes=goa_loc['longitude']\n",
    "                                  )\n"
   ]
  },
  {
   "cell_type": "code",
   "execution_count": null,
   "metadata": {},
   "outputs": [],
   "source": [
    "goa_venues.shape"
   ]
  },
  {
   "cell_type": "markdown",
   "metadata": {},
   "source": [
    "Lets group the dataframe based on location and then one-hot-encode them"
   ]
  },
  {
   "cell_type": "code",
   "execution_count": null,
   "metadata": {},
   "outputs": [],
   "source": [
    "goa_venues.groupby('location').count()"
   ]
  },
  {
   "cell_type": "code",
   "execution_count": null,
   "metadata": {},
   "outputs": [],
   "source": [
    "# one hot encoding\n",
    "onehot = pd.get_dummies(goa_venues[['Venue Category']], prefix=\"\", prefix_sep=\"\")\n",
    "\n",
    "# add neighborhood column back to dataframe\n",
    "onehot['location'] = goa_venues['location'] \n",
    "onehot['pincode '] = goa_venues['pincode '] \n",
    "\n",
    "# move neighborhood column to the first column\n",
    "fixed_columns = [onehot.columns[-1]]+[onehot.columns[-2]] + list(onehot.columns[:-2])\n",
    "onehot = onehot[fixed_columns]\n",
    "print(onehot.shape)\n",
    "onehot.head()"
   ]
  },
  {
   "cell_type": "code",
   "execution_count": null,
   "metadata": {},
   "outputs": [],
   "source": [
    "grouped = onehot.groupby(['location','pincode ']).mean().reset_index()\n",
    "grouped.head()"
   ]
  },
  {
   "cell_type": "markdown",
   "metadata": {},
   "source": [
    "Now lets define a function to get top 5 venues from each town."
   ]
  },
  {
   "cell_type": "code",
   "execution_count": null,
   "metadata": {},
   "outputs": [],
   "source": [
    "def return_most_common_venues(row, num_top_venues):\n",
    "    row_categories = row.iloc[0:]\n",
    "    row_categories_sorted = row_categories.sort_values(ascending=False)\n",
    "    \n",
    "    return row_categories_sorted.index.values[0:num_top_venues]"
   ]
  },
  {
   "cell_type": "code",
   "execution_count": null,
   "metadata": {},
   "outputs": [],
   "source": [
    "num_top_venues = 5\n",
    "\n",
    "indicators = ['st', 'nd', 'rd']\n",
    "\n",
    "# create columns according to number of top venues\n",
    "columns = ['location','pincode ']\n",
    "for ind in np.arange(num_top_venues):\n",
    "    try:\n",
    "        columns.append('{}{} Most Common Venue'.format(ind+1, indicators[ind]))\n",
    "    except:\n",
    "        columns.append('{}th Most Common Venue'.format(ind+1))\n",
    "\n",
    "# create a new dataframe\n",
    "venues_sorted = pd.DataFrame(columns=columns)\n",
    "venues_sorted['location'] = grouped['location']\n",
    "venues_sorted['pincode '] = grouped['pincode ']\n",
    "\n",
    "for ind in np.arange(grouped.shape[0]):\n",
    "    venues_sorted.iloc[ind, 2:] = return_most_common_venues(grouped.iloc[ind, 2:], num_top_venues)\n",
    "\n",
    "venues_sorted.sort_values('pincode ',inplace=True)\n",
    "print(venues_sorted.shape)\n"
   ]
  },
  {
   "cell_type": "markdown",
   "metadata": {},
   "source": [
    "## Clustering"
   ]
  },
  {
   "cell_type": "markdown",
   "metadata": {},
   "source": [
    "Now that we have the top 5 venues of each town lets perform K-means clustering on the dataframe."
   ]
  },
  {
   "cell_type": "code",
   "execution_count": null,
   "metadata": {},
   "outputs": [],
   "source": [
    "kclusters =6\n",
    "grouped_clustering = grouped.drop(['location','pincode '], 1)\n",
    "kmeans = KMeans(n_clusters=kclusters, random_state=0).fit(grouped_clustering)\n",
    "kmeans.labels_\n"
   ]
  },
  {
   "cell_type": "code",
   "execution_count": null,
   "metadata": {},
   "outputs": [],
   "source": [
    "goa_merged = pd.DataFrame(columns=['location','pincode '])\n",
    "goa_merged['location'] = grouped['location']\n",
    "goa_merged['pincode '] = grouped['pincode ']\n",
    "goa_merged['Cluster'] = kmeans.labels_\n",
    "goa_merged.shape"
   ]
  },
  {
   "cell_type": "markdown",
   "metadata": {},
   "source": [
    "Now lets combine the venues dataframe with the original dataframe to get the new dataframe with coordinates of each town."
   ]
  },
  {
   "cell_type": "code",
   "execution_count": null,
   "metadata": {},
   "outputs": [],
   "source": [
    "venues_sorted.sort_values('location',inplace=True)\n",
    "venues_sorted.reset_index(inplace=True)\n",
    "goa_merged.sort_values('location',inplace=True)\n",
    "goa_merged.reset_index(inplace=True)\n",
    "venues_sorted.shape"
   ]
  },
  {
   "cell_type": "code",
   "execution_count": null,
   "metadata": {},
   "outputs": [],
   "source": [
    "venues_sorted.drop('index',axis=1,inplace=True)\n",
    "venues_sorted.head()"
   ]
  },
  {
   "cell_type": "code",
   "execution_count": null,
   "metadata": {},
   "outputs": [],
   "source": [
    "goa_merged.drop('index',axis=1,inplace=True)\n",
    "goa_merged.head()\n"
   ]
  },
  {
   "cell_type": "code",
   "execution_count": null,
   "metadata": {},
   "outputs": [],
   "source": [
    "goa_merged.drop('pincode ',axis=1,inplace=True)\n",
    "goa_merged = goa_merged.join(venues_sorted.set_index('location'), on='location')\n",
    "\n",
    "goa_merged.drop('pincode ',axis=1,inplace=True)\n",
    "goa_merged = goa_merged.join(goa_loc.set_index('location'),on='location')\n",
    "print(goa_merged.shape)\n",
    "goa_merged.head() "
   ]
  },
  {
   "cell_type": "markdown",
   "metadata": {},
   "source": [
    "Lets visualise the clustered towns."
   ]
  },
  {
   "cell_type": "code",
   "execution_count": null,
   "metadata": {},
   "outputs": [],
   "source": [
    "map_clusters = folium.Map(location=[latitude, longitude], zoom_start=10)\n",
    "\n",
    "# set color scheme for the clusters\n",
    "x = np.arange(kclusters)\n",
    "ys = [i+x+(i*x)**2 for i in range(kclusters)]\n",
    "colors_array = cm.rainbow(np.linspace(0, 1, len(ys)))\n",
    "rainbow = [colors.rgb2hex(i) for i in colors_array]\n",
    "\n",
    "# add markers to the map\n",
    "markers_colors = []\n",
    "for pin,lat, lon, loc, cluster in zip(goa_merged['pincode '],goa_merged['latitude'], goa_merged['longitude'], goa_merged['location'], goa_merged['Cluster']):\n",
    "    label = folium.Popup(str(loc) + ' Cluster ' + str(cluster), parse_html=True)\n",
    "    folium.CircleMarker(\n",
    "        [lat, lon],\n",
    "        radius=5,\n",
    "        popup=label,\n",
    "        color=rainbow[cluster-1],\n",
    "        fill=True,\n",
    "        fill_color=rainbow[cluster-1],\n",
    "        fill_opacity=0.7).add_to(map_clusters)\n",
    "       \n",
    "map_clusters"
   ]
  },
  {
   "cell_type": "code",
   "execution_count": null,
   "metadata": {},
   "outputs": [],
   "source": [
    "cluster1 = goa_merged.loc[goa_merged['Cluster'] == 0, goa_merged.columns[[0] + list(range(2, 7))]]\n",
    "cluster1.reset_index(inplace=True)\n",
    "cluster1.drop('index',axis=1,inplace=True)\n",
    "cluster1"
   ]
  },
  {
   "cell_type": "code",
   "execution_count": null,
   "metadata": {},
   "outputs": [],
   "source": [
    "cluster2 = goa_merged.loc[goa_merged['Cluster'] == 1, goa_merged.columns[[0] + list(range(2, 7))]]\n",
    "cluster2.reset_index(inplace=True)\n",
    "cluster2.drop('index',axis=1,inplace=True)\n",
    "cluster2"
   ]
  },
  {
   "cell_type": "code",
   "execution_count": null,
   "metadata": {},
   "outputs": [],
   "source": [
    "cluster3 = goa_merged.loc[goa_merged['Cluster'] == 2, goa_merged.columns[[0] + list(range(2, 7))]]\n",
    "cluster3.reset_index(inplace=True)\n",
    "cluster3.drop('index',axis=1,inplace=True)\n",
    "cluster3"
   ]
  },
  {
   "cell_type": "code",
   "execution_count": null,
   "metadata": {},
   "outputs": [],
   "source": [
    "cluster4 = goa_merged.loc[goa_merged['Cluster'] == 3, goa_merged.columns[[0] + list(range(2, 7))]]\n",
    "cluster4.reset_index(inplace=True)\n",
    "cluster4.drop('index',axis=1,inplace=True)\n",
    "cluster4"
   ]
  },
  {
   "cell_type": "code",
   "execution_count": null,
   "metadata": {},
   "outputs": [],
   "source": [
    "cluster5 = goa_merged.loc[goa_merged['Cluster'] == 4, goa_merged.columns[[0] + list(range(2, 7))]]\n",
    "cluster5.reset_index(inplace=True)\n",
    "cluster5.drop('index',axis=1,inplace=True)\n",
    "cluster5"
   ]
  },
  {
   "cell_type": "code",
   "execution_count": null,
   "metadata": {},
   "outputs": [],
   "source": [
    "cluster6 = goa_merged.loc[goa_merged['Cluster'] == 5, goa_merged.columns[[0] + list(range(2, 7))]]\n",
    "cluster6.reset_index(inplace=True)\n",
    "cluster6.drop('index',axis=1,inplace=True)\n",
    "cluster6"
   ]
  },
  {
   "cell_type": "markdown",
   "metadata": {},
   "source": [
    "---    \n",
    "Lets analyze the clusters for the frequency of restaurants visits"
   ]
  },
  {
   "cell_type": "code",
   "execution_count": null,
   "metadata": {},
   "outputs": [],
   "source": [
    "restaurants= []\n",
    "cols = ['1st','2nd','3rd','4th','5th']\n",
    "for i in range(kclusters): \n",
    "    rlist = []\n",
    "    for col in cols:\n",
    "        df =  goa_merged.loc[goa_merged['Cluster'] == i, goa_merged.columns[[0] + list(range(2, 7))]]\n",
    "        list1 = df['{} Most Common Venue'.format(col)].str.contains('restaurant', case=False).astype(int)\n",
    "        rlist.extend(list(list1))\n",
    "    restaurants.append(sum(rlist))\n"
   ]
  },
  {
   "cell_type": "code",
   "execution_count": null,
   "metadata": {},
   "outputs": [],
   "source": [
    "clusters = ['cluster 1','cluster 2','cluster 3','cluster 4','cluster 5','cluster 6',]\n",
    "plt.bar(clusters,restaurants)\n",
    "plt.xlabel('Clusters')\n",
    "plt.ylabel(\"Frequency of vists to Restaurants\")\n",
    "plt.title('Visit frequency of restaurants per cluster')"
   ]
  },
  {
   "cell_type": "markdown",
   "metadata": {},
   "source": [
    "### Inference\n",
    "We see that locations from cluster 1, cluster 6 and cluster 5 show a very good rate of visits to restaurants. Locations from these clusters are ideal to startup an restraurant since people are more likely to visit a new restaurant in these areas rather then the ones in cluster 2,3 and 4. These locations provide a very high chance of profit and investors are less likely to suffer loss.\n",
    " \n",
    "Locations from cluster 5 shows the highest frequency of visits to restaurants and these locations are likely to provide the most profit for an restaurant owner as people from these location show a high tendency to visit different restaurants and food places especially Indian Restaurants.\n",
    "   "
   ]
  },
  {
   "cell_type": "markdown",
   "metadata": {},
   "source": [
    "\n",
    "Additionally we can also infer that if someone wants to start an residency the locations from cluster 5 are ideal since these locations have the different day-to-day life services available and are suitable for tourists as well as people with a high class lifestyle who would like to have quick access to leisure services on day to day basis."
   ]
  },
  {
   "cell_type": "markdown",
   "metadata": {},
   "source": [
    "## Thank You"
   ]
  }
 ],
 "metadata": {
  "kernelspec": {
   "display_name": "Python 3",
   "language": "python",
   "name": "python3"
  },
  "language_info": {
   "codemirror_mode": {
    "name": "ipython",
    "version": 3
   },
   "file_extension": ".py",
   "mimetype": "text/x-python",
   "name": "python",
   "nbconvert_exporter": "python",
   "pygments_lexer": "ipython3",
   "version": "3.6.6"
  }
 },
 "nbformat": 4,
 "nbformat_minor": 2
}
